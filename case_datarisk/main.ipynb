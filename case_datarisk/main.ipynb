{
 "cells": [
  {
   "cell_type": "code",
   "execution_count": 1,
   "id": "expensive-christianity",
   "metadata": {},
   "outputs": [],
   "source": [
    "import pandas as pd\n",
    "import numpy as np"
   ]
  },
  {
   "cell_type": "code",
   "execution_count": 2,
   "id": "outside-orange",
   "metadata": {},
   "outputs": [],
   "source": [
    "from imblearn.over_sampling import RandomOverSampler, SMOTE\n",
    "from imblearn.under_sampling import RandomUnderSampler, NearMiss"
   ]
  },
  {
   "cell_type": "code",
   "execution_count": 3,
   "id": "continued-glory",
   "metadata": {},
   "outputs": [],
   "source": [
    "df_train = pd.read_csv(\"treino.csv\")\n",
    "df_test = pd.read_csv(\"teste.csv\")"
   ]
  },
  {
   "cell_type": "code",
   "execution_count": 4,
   "id": "utility-carbon",
   "metadata": {},
   "outputs": [
    {
     "data": {
      "text/html": [
       "<div>\n",
       "<style scoped>\n",
       "    .dataframe tbody tr th:only-of-type {\n",
       "        vertical-align: middle;\n",
       "    }\n",
       "\n",
       "    .dataframe tbody tr th {\n",
       "        vertical-align: top;\n",
       "    }\n",
       "\n",
       "    .dataframe thead th {\n",
       "        text-align: right;\n",
       "    }\n",
       "</style>\n",
       "<table border=\"1\" class=\"dataframe\">\n",
       "  <thead>\n",
       "    <tr style=\"text-align: right;\">\n",
       "      <th></th>\n",
       "      <th>inadimplente</th>\n",
       "      <th>util_linhas_inseguras</th>\n",
       "      <th>idade</th>\n",
       "      <th>vezes_passou_de_30_59_dias</th>\n",
       "      <th>razao_debito</th>\n",
       "      <th>salario_mensal</th>\n",
       "      <th>numero_linhas_crdto_aberto</th>\n",
       "      <th>numero_vezes_passou_90_dias</th>\n",
       "      <th>numero_emprestimos_imobiliarios</th>\n",
       "      <th>numero_de_vezes_que_passou_60_89_dias</th>\n",
       "      <th>numero_de_dependentes</th>\n",
       "    </tr>\n",
       "  </thead>\n",
       "  <tbody>\n",
       "    <tr>\n",
       "      <th>0</th>\n",
       "      <td>1</td>\n",
       "      <td>0.766127</td>\n",
       "      <td>45</td>\n",
       "      <td>2</td>\n",
       "      <td>0.802982</td>\n",
       "      <td>9120.0</td>\n",
       "      <td>13</td>\n",
       "      <td>0</td>\n",
       "      <td>6</td>\n",
       "      <td>0</td>\n",
       "      <td>2.0</td>\n",
       "    </tr>\n",
       "    <tr>\n",
       "      <th>1</th>\n",
       "      <td>0</td>\n",
       "      <td>0.957151</td>\n",
       "      <td>40</td>\n",
       "      <td>0</td>\n",
       "      <td>0.121876</td>\n",
       "      <td>2600.0</td>\n",
       "      <td>4</td>\n",
       "      <td>0</td>\n",
       "      <td>0</td>\n",
       "      <td>0</td>\n",
       "      <td>1.0</td>\n",
       "    </tr>\n",
       "    <tr>\n",
       "      <th>2</th>\n",
       "      <td>0</td>\n",
       "      <td>0.658180</td>\n",
       "      <td>38</td>\n",
       "      <td>1</td>\n",
       "      <td>0.085113</td>\n",
       "      <td>3042.0</td>\n",
       "      <td>2</td>\n",
       "      <td>1</td>\n",
       "      <td>0</td>\n",
       "      <td>0</td>\n",
       "      <td>0.0</td>\n",
       "    </tr>\n",
       "    <tr>\n",
       "      <th>3</th>\n",
       "      <td>0</td>\n",
       "      <td>0.233810</td>\n",
       "      <td>30</td>\n",
       "      <td>0</td>\n",
       "      <td>0.036050</td>\n",
       "      <td>3300.0</td>\n",
       "      <td>5</td>\n",
       "      <td>0</td>\n",
       "      <td>0</td>\n",
       "      <td>0</td>\n",
       "      <td>0.0</td>\n",
       "    </tr>\n",
       "  </tbody>\n",
       "</table>\n",
       "</div>"
      ],
      "text/plain": [
       "   inadimplente  util_linhas_inseguras  idade  vezes_passou_de_30_59_dias  \\\n",
       "0             1               0.766127     45                           2   \n",
       "1             0               0.957151     40                           0   \n",
       "2             0               0.658180     38                           1   \n",
       "3             0               0.233810     30                           0   \n",
       "\n",
       "   razao_debito  salario_mensal  numero_linhas_crdto_aberto  \\\n",
       "0      0.802982          9120.0                          13   \n",
       "1      0.121876          2600.0                           4   \n",
       "2      0.085113          3042.0                           2   \n",
       "3      0.036050          3300.0                           5   \n",
       "\n",
       "   numero_vezes_passou_90_dias  numero_emprestimos_imobiliarios  \\\n",
       "0                            0                                6   \n",
       "1                            0                                0   \n",
       "2                            1                                0   \n",
       "3                            0                                0   \n",
       "\n",
       "   numero_de_vezes_que_passou_60_89_dias  numero_de_dependentes  \n",
       "0                                      0                    2.0  \n",
       "1                                      0                    1.0  \n",
       "2                                      0                    0.0  \n",
       "3                                      0                    0.0  "
      ]
     },
     "execution_count": 4,
     "metadata": {},
     "output_type": "execute_result"
    }
   ],
   "source": [
    "df_train.head(4)"
   ]
  },
  {
   "cell_type": "code",
   "execution_count": 5,
   "id": "collect-parks",
   "metadata": {},
   "outputs": [
    {
     "data": {
      "text/html": [
       "<div>\n",
       "<style scoped>\n",
       "    .dataframe tbody tr th:only-of-type {\n",
       "        vertical-align: middle;\n",
       "    }\n",
       "\n",
       "    .dataframe tbody tr th {\n",
       "        vertical-align: top;\n",
       "    }\n",
       "\n",
       "    .dataframe thead th {\n",
       "        text-align: right;\n",
       "    }\n",
       "</style>\n",
       "<table border=\"1\" class=\"dataframe\">\n",
       "  <thead>\n",
       "    <tr style=\"text-align: right;\">\n",
       "      <th></th>\n",
       "      <th>util_linhas_inseguras</th>\n",
       "      <th>idade</th>\n",
       "      <th>vezes_passou_de_30_59_dias</th>\n",
       "      <th>razao_debito</th>\n",
       "      <th>salario_mensal</th>\n",
       "      <th>numero_linhas_crdto_aberto</th>\n",
       "      <th>numero_vezes_passou_90_dias</th>\n",
       "      <th>numero_emprestimos_imobiliarios</th>\n",
       "      <th>numero_de_vezes_que_passou_60_89_dias</th>\n",
       "      <th>numero_de_dependentes</th>\n",
       "    </tr>\n",
       "  </thead>\n",
       "  <tbody>\n",
       "    <tr>\n",
       "      <th>0</th>\n",
       "      <td>0.025849</td>\n",
       "      <td>62</td>\n",
       "      <td>0</td>\n",
       "      <td>0.081775</td>\n",
       "      <td>8180.0</td>\n",
       "      <td>3</td>\n",
       "      <td>0</td>\n",
       "      <td>2</td>\n",
       "      <td>0</td>\n",
       "      <td>0.0</td>\n",
       "    </tr>\n",
       "    <tr>\n",
       "      <th>1</th>\n",
       "      <td>0.667083</td>\n",
       "      <td>55</td>\n",
       "      <td>0</td>\n",
       "      <td>0.153112</td>\n",
       "      <td>2200.0</td>\n",
       "      <td>3</td>\n",
       "      <td>0</td>\n",
       "      <td>0</td>\n",
       "      <td>0</td>\n",
       "      <td>0.0</td>\n",
       "    </tr>\n",
       "    <tr>\n",
       "      <th>2</th>\n",
       "      <td>0.007093</td>\n",
       "      <td>44</td>\n",
       "      <td>0</td>\n",
       "      <td>0.148800</td>\n",
       "      <td>7499.0</td>\n",
       "      <td>20</td>\n",
       "      <td>0</td>\n",
       "      <td>1</td>\n",
       "      <td>0</td>\n",
       "      <td>0.0</td>\n",
       "    </tr>\n",
       "    <tr>\n",
       "      <th>3</th>\n",
       "      <td>0.091213</td>\n",
       "      <td>54</td>\n",
       "      <td>0</td>\n",
       "      <td>0.351635</td>\n",
       "      <td>5900.0</td>\n",
       "      <td>15</td>\n",
       "      <td>0</td>\n",
       "      <td>1</td>\n",
       "      <td>1</td>\n",
       "      <td>0.0</td>\n",
       "    </tr>\n",
       "  </tbody>\n",
       "</table>\n",
       "</div>"
      ],
      "text/plain": [
       "   util_linhas_inseguras  idade  vezes_passou_de_30_59_dias  razao_debito  \\\n",
       "0               0.025849     62                           0      0.081775   \n",
       "1               0.667083     55                           0      0.153112   \n",
       "2               0.007093     44                           0      0.148800   \n",
       "3               0.091213     54                           0      0.351635   \n",
       "\n",
       "   salario_mensal  numero_linhas_crdto_aberto  numero_vezes_passou_90_dias  \\\n",
       "0          8180.0                           3                            0   \n",
       "1          2200.0                           3                            0   \n",
       "2          7499.0                          20                            0   \n",
       "3          5900.0                          15                            0   \n",
       "\n",
       "   numero_emprestimos_imobiliarios  numero_de_vezes_que_passou_60_89_dias  \\\n",
       "0                                2                                      0   \n",
       "1                                0                                      0   \n",
       "2                                1                                      0   \n",
       "3                                1                                      1   \n",
       "\n",
       "   numero_de_dependentes  \n",
       "0                    0.0  \n",
       "1                    0.0  \n",
       "2                    0.0  \n",
       "3                    0.0  "
      ]
     },
     "execution_count": 5,
     "metadata": {},
     "output_type": "execute_result"
    }
   ],
   "source": [
    "df_test.head(4)"
   ]
  },
  {
   "cell_type": "code",
   "execution_count": 6,
   "id": "present-blind",
   "metadata": {},
   "outputs": [
    {
     "data": {
      "text/plain": [
       "110000"
      ]
     },
     "execution_count": 6,
     "metadata": {},
     "output_type": "execute_result"
    }
   ],
   "source": [
    "len(df_train)"
   ]
  },
  {
   "cell_type": "code",
   "execution_count": 7,
   "id": "satellite-shower",
   "metadata": {},
   "outputs": [
    {
     "data": {
      "text/plain": [
       "40000"
      ]
     },
     "execution_count": 7,
     "metadata": {},
     "output_type": "execute_result"
    }
   ],
   "source": [
    "len(df_test)"
   ]
  },
  {
   "cell_type": "code",
   "execution_count": 8,
   "id": "driven-designation",
   "metadata": {},
   "outputs": [],
   "source": [
    "df = df_train"
   ]
  },
  {
   "cell_type": "code",
   "execution_count": 9,
   "id": "czech-discharge",
   "metadata": {},
   "outputs": [
    {
     "data": {
      "text/plain": [
       "Index(['inadimplente', 'util_linhas_inseguras', 'idade',\n",
       "       'vezes_passou_de_30_59_dias', 'razao_debito', 'salario_mensal',\n",
       "       'numero_linhas_crdto_aberto', 'numero_vezes_passou_90_dias',\n",
       "       'numero_emprestimos_imobiliarios',\n",
       "       'numero_de_vezes_que_passou_60_89_dias', 'numero_de_dependentes'],\n",
       "      dtype='object')"
      ]
     },
     "execution_count": 9,
     "metadata": {},
     "output_type": "execute_result"
    }
   ],
   "source": [
    "df.columns"
   ]
  },
  {
   "cell_type": "code",
   "execution_count": 10,
   "id": "opening-skirt",
   "metadata": {},
   "outputs": [
    {
     "data": {
      "text/html": [
       "<div>\n",
       "<style scoped>\n",
       "    .dataframe tbody tr th:only-of-type {\n",
       "        vertical-align: middle;\n",
       "    }\n",
       "\n",
       "    .dataframe tbody tr th {\n",
       "        vertical-align: top;\n",
       "    }\n",
       "\n",
       "    .dataframe thead th {\n",
       "        text-align: right;\n",
       "    }\n",
       "</style>\n",
       "<table border=\"1\" class=\"dataframe\">\n",
       "  <thead>\n",
       "    <tr style=\"text-align: right;\">\n",
       "      <th></th>\n",
       "      <th>inadimplente</th>\n",
       "      <th>util_linhas_inseguras</th>\n",
       "      <th>idade</th>\n",
       "      <th>vezes_passou_de_30_59_dias</th>\n",
       "      <th>razao_debito</th>\n",
       "      <th>salario_mensal</th>\n",
       "      <th>numero_linhas_crdto_aberto</th>\n",
       "      <th>numero_vezes_passou_90_dias</th>\n",
       "      <th>numero_emprestimos_imobiliarios</th>\n",
       "      <th>numero_de_vezes_que_passou_60_89_dias</th>\n",
       "      <th>numero_de_dependentes</th>\n",
       "    </tr>\n",
       "  </thead>\n",
       "  <tbody>\n",
       "    <tr>\n",
       "      <th>count</th>\n",
       "      <td>110000.000000</td>\n",
       "      <td>110000.000000</td>\n",
       "      <td>110000.000000</td>\n",
       "      <td>110000.000000</td>\n",
       "      <td>110000.000000</td>\n",
       "      <td>8.823700e+04</td>\n",
       "      <td>110000.000000</td>\n",
       "      <td>110000.000000</td>\n",
       "      <td>110000.000000</td>\n",
       "      <td>110000.000000</td>\n",
       "      <td>107122.000000</td>\n",
       "    </tr>\n",
       "    <tr>\n",
       "      <th>mean</th>\n",
       "      <td>0.066645</td>\n",
       "      <td>5.929979</td>\n",
       "      <td>52.255636</td>\n",
       "      <td>0.424055</td>\n",
       "      <td>354.823589</td>\n",
       "      <td>6.637411e+03</td>\n",
       "      <td>8.445573</td>\n",
       "      <td>0.269955</td>\n",
       "      <td>1.019891</td>\n",
       "      <td>0.243891</td>\n",
       "      <td>0.757482</td>\n",
       "    </tr>\n",
       "    <tr>\n",
       "      <th>std</th>\n",
       "      <td>0.249408</td>\n",
       "      <td>252.301965</td>\n",
       "      <td>14.768241</td>\n",
       "      <td>4.240780</td>\n",
       "      <td>2074.140421</td>\n",
       "      <td>1.338395e+04</td>\n",
       "      <td>5.139026</td>\n",
       "      <td>4.217326</td>\n",
       "      <td>1.135989</td>\n",
       "      <td>4.204137</td>\n",
       "      <td>1.114670</td>\n",
       "    </tr>\n",
       "    <tr>\n",
       "      <th>min</th>\n",
       "      <td>0.000000</td>\n",
       "      <td>0.000000</td>\n",
       "      <td>0.000000</td>\n",
       "      <td>0.000000</td>\n",
       "      <td>0.000000</td>\n",
       "      <td>0.000000e+00</td>\n",
       "      <td>0.000000</td>\n",
       "      <td>0.000000</td>\n",
       "      <td>0.000000</td>\n",
       "      <td>0.000000</td>\n",
       "      <td>0.000000</td>\n",
       "    </tr>\n",
       "    <tr>\n",
       "      <th>25%</th>\n",
       "      <td>0.000000</td>\n",
       "      <td>0.030054</td>\n",
       "      <td>41.000000</td>\n",
       "      <td>0.000000</td>\n",
       "      <td>0.175016</td>\n",
       "      <td>3.400000e+03</td>\n",
       "      <td>5.000000</td>\n",
       "      <td>0.000000</td>\n",
       "      <td>0.000000</td>\n",
       "      <td>0.000000</td>\n",
       "      <td>0.000000</td>\n",
       "    </tr>\n",
       "    <tr>\n",
       "      <th>50%</th>\n",
       "      <td>0.000000</td>\n",
       "      <td>0.155936</td>\n",
       "      <td>52.000000</td>\n",
       "      <td>0.000000</td>\n",
       "      <td>0.366682</td>\n",
       "      <td>5.400000e+03</td>\n",
       "      <td>8.000000</td>\n",
       "      <td>0.000000</td>\n",
       "      <td>1.000000</td>\n",
       "      <td>0.000000</td>\n",
       "      <td>0.000000</td>\n",
       "    </tr>\n",
       "    <tr>\n",
       "      <th>75%</th>\n",
       "      <td>0.000000</td>\n",
       "      <td>0.562806</td>\n",
       "      <td>63.000000</td>\n",
       "      <td>0.000000</td>\n",
       "      <td>0.866874</td>\n",
       "      <td>8.225000e+03</td>\n",
       "      <td>11.000000</td>\n",
       "      <td>0.000000</td>\n",
       "      <td>2.000000</td>\n",
       "      <td>0.000000</td>\n",
       "      <td>1.000000</td>\n",
       "    </tr>\n",
       "    <tr>\n",
       "      <th>max</th>\n",
       "      <td>1.000000</td>\n",
       "      <td>50708.000000</td>\n",
       "      <td>109.000000</td>\n",
       "      <td>98.000000</td>\n",
       "      <td>329664.000000</td>\n",
       "      <td>3.008750e+06</td>\n",
       "      <td>58.000000</td>\n",
       "      <td>98.000000</td>\n",
       "      <td>54.000000</td>\n",
       "      <td>98.000000</td>\n",
       "      <td>20.000000</td>\n",
       "    </tr>\n",
       "  </tbody>\n",
       "</table>\n",
       "</div>"
      ],
      "text/plain": [
       "        inadimplente  util_linhas_inseguras          idade  \\\n",
       "count  110000.000000          110000.000000  110000.000000   \n",
       "mean        0.066645               5.929979      52.255636   \n",
       "std         0.249408             252.301965      14.768241   \n",
       "min         0.000000               0.000000       0.000000   \n",
       "25%         0.000000               0.030054      41.000000   \n",
       "50%         0.000000               0.155936      52.000000   \n",
       "75%         0.000000               0.562806      63.000000   \n",
       "max         1.000000           50708.000000     109.000000   \n",
       "\n",
       "       vezes_passou_de_30_59_dias   razao_debito  salario_mensal  \\\n",
       "count               110000.000000  110000.000000    8.823700e+04   \n",
       "mean                     0.424055     354.823589    6.637411e+03   \n",
       "std                      4.240780    2074.140421    1.338395e+04   \n",
       "min                      0.000000       0.000000    0.000000e+00   \n",
       "25%                      0.000000       0.175016    3.400000e+03   \n",
       "50%                      0.000000       0.366682    5.400000e+03   \n",
       "75%                      0.000000       0.866874    8.225000e+03   \n",
       "max                     98.000000  329664.000000    3.008750e+06   \n",
       "\n",
       "       numero_linhas_crdto_aberto  numero_vezes_passou_90_dias  \\\n",
       "count               110000.000000                110000.000000   \n",
       "mean                     8.445573                     0.269955   \n",
       "std                      5.139026                     4.217326   \n",
       "min                      0.000000                     0.000000   \n",
       "25%                      5.000000                     0.000000   \n",
       "50%                      8.000000                     0.000000   \n",
       "75%                     11.000000                     0.000000   \n",
       "max                     58.000000                    98.000000   \n",
       "\n",
       "       numero_emprestimos_imobiliarios  numero_de_vezes_que_passou_60_89_dias  \\\n",
       "count                    110000.000000                          110000.000000   \n",
       "mean                          1.019891                               0.243891   \n",
       "std                           1.135989                               4.204137   \n",
       "min                           0.000000                               0.000000   \n",
       "25%                           0.000000                               0.000000   \n",
       "50%                           1.000000                               0.000000   \n",
       "75%                           2.000000                               0.000000   \n",
       "max                          54.000000                              98.000000   \n",
       "\n",
       "       numero_de_dependentes  \n",
       "count          107122.000000  \n",
       "mean                0.757482  \n",
       "std                 1.114670  \n",
       "min                 0.000000  \n",
       "25%                 0.000000  \n",
       "50%                 0.000000  \n",
       "75%                 1.000000  \n",
       "max                20.000000  "
      ]
     },
     "execution_count": 10,
     "metadata": {},
     "output_type": "execute_result"
    }
   ],
   "source": [
    "df.describe()"
   ]
  },
  {
   "cell_type": "code",
   "execution_count": 11,
   "id": "heavy-respondent",
   "metadata": {},
   "outputs": [
    {
     "data": {
      "text/plain": [
       "inadimplente                                 0\n",
       "util_linhas_inseguras                        0\n",
       "idade                                        0\n",
       "vezes_passou_de_30_59_dias                   0\n",
       "razao_debito                                 0\n",
       "salario_mensal                           21763\n",
       "numero_linhas_crdto_aberto                   0\n",
       "numero_vezes_passou_90_dias                  0\n",
       "numero_emprestimos_imobiliarios              0\n",
       "numero_de_vezes_que_passou_60_89_dias        0\n",
       "numero_de_dependentes                     2878\n",
       "dtype: int64"
      ]
     },
     "execution_count": 11,
     "metadata": {},
     "output_type": "execute_result"
    }
   ],
   "source": [
    "df.isnull().sum()"
   ]
  },
  {
   "cell_type": "code",
   "execution_count": 12,
   "id": "quarterly-popularity",
   "metadata": {},
   "outputs": [],
   "source": [
    "df ['numero_de_dependentes'] = df ['numero_de_dependentes']. fillna (0)\n",
    "df ['salario_mensal'] = df ['salario_mensal']. fillna (0)"
   ]
  },
  {
   "cell_type": "code",
   "execution_count": 13,
   "id": "premium-equilibrium",
   "metadata": {},
   "outputs": [
    {
     "data": {
      "text/plain": [
       "inadimplente                             0\n",
       "util_linhas_inseguras                    0\n",
       "idade                                    0\n",
       "vezes_passou_de_30_59_dias               0\n",
       "razao_debito                             0\n",
       "salario_mensal                           0\n",
       "numero_linhas_crdto_aberto               0\n",
       "numero_vezes_passou_90_dias              0\n",
       "numero_emprestimos_imobiliarios          0\n",
       "numero_de_vezes_que_passou_60_89_dias    0\n",
       "numero_de_dependentes                    0\n",
       "dtype: int64"
      ]
     },
     "execution_count": 13,
     "metadata": {},
     "output_type": "execute_result"
    }
   ],
   "source": [
    "df.isnull().sum()"
   ]
  },
  {
   "cell_type": "code",
   "execution_count": 14,
   "id": "contained-basket",
   "metadata": {},
   "outputs": [],
   "source": [
    "target = np.unique(df['inadimplente'], return_counts = True) "
   ]
  },
  {
   "cell_type": "code",
   "execution_count": 15,
   "id": "straight-violin",
   "metadata": {},
   "outputs": [
    {
     "data": {
      "text/plain": [
       "(array([0, 1]), array([102669,   7331]))"
      ]
     },
     "execution_count": 15,
     "metadata": {},
     "output_type": "execute_result"
    }
   ],
   "source": [
    "target"
   ]
  },
  {
   "cell_type": "code",
   "execution_count": 16,
   "id": "interim-bearing",
   "metadata": {},
   "outputs": [
    {
     "data": {
      "text/plain": [
       "0.07140422133263205"
      ]
     },
     "execution_count": 16,
     "metadata": {},
     "output_type": "execute_result"
    }
   ],
   "source": [
    "target[1][1]/target[1][0]"
   ]
  },
  {
   "cell_type": "code",
   "execution_count": 17,
   "id": "challenging-boring",
   "metadata": {},
   "outputs": [
    {
     "data": {
      "text/plain": [
       "(array([0.0000e+00, 9.9300e-06, 1.4900e-05, ..., 2.2198e+04, 2.9110e+04,\n",
       "        5.0708e+04]),\n",
       " array([7983,    1,    1, ...,    1,    1,    1]))"
      ]
     },
     "execution_count": 17,
     "metadata": {},
     "output_type": "execute_result"
    }
   ],
   "source": [
    "np.unique(df['util_linhas_inseguras'], return_counts = True)"
   ]
  },
  {
   "cell_type": "code",
   "execution_count": 18,
   "id": "ordinary-south",
   "metadata": {},
   "outputs": [
    {
     "data": {
      "text/plain": [
       "(array([  0,  21,  22,  23,  24,  25,  26,  27,  28,  29,  30,  31,  32,\n",
       "         33,  34,  35,  36,  37,  38,  39,  40,  41,  42,  43,  44,  45,\n",
       "         46,  47,  48,  49,  50,  51,  52,  53,  54,  55,  56,  57,  58,\n",
       "         59,  60,  61,  62,  63,  64,  65,  66,  67,  68,  69,  70,  71,\n",
       "         72,  73,  74,  75,  76,  77,  78,  79,  80,  81,  82,  83,  84,\n",
       "         85,  86,  87,  88,  89,  90,  91,  92,  93,  94,  95,  96,  97,\n",
       "         98,  99, 101, 102, 103, 105, 107, 109]),\n",
       " array([   1,  142,  324,  469,  616,  704,  874,  969, 1152, 1296, 1385,\n",
       "        1475, 1504, 1681, 1600, 1647, 1733, 1837, 1926, 2242, 2282, 2265,\n",
       "        2268, 2364, 2449, 2525, 2759, 2718, 2794, 2788, 2709, 2665, 2642,\n",
       "        2660, 2640, 2526, 2602, 2485, 2555, 2418, 2350, 2585, 2599, 2705,\n",
       "        2252, 1906, 1835, 1811, 1617, 1450, 1314, 1208, 1218, 1127, 1062,\n",
       "         906,  873,  794,  758,  723,  612,  592,  471,  371,  347,  358,\n",
       "         306,  253,  219,  197,  136,  108,   66,   71,   30,   34,   10,\n",
       "          11,    5,    9,    2,    3,    2,    1,    1,    1]))"
      ]
     },
     "execution_count": 18,
     "metadata": {},
     "output_type": "execute_result"
    }
   ],
   "source": [
    "np.unique(df['idade'], return_counts = True)"
   ]
  },
  {
   "cell_type": "code",
   "execution_count": 19,
   "id": "radio-chapter",
   "metadata": {},
   "outputs": [
    {
     "data": {
      "text/plain": [
       "(array([ 0,  1,  2,  3,  4,  5,  6,  7,  8,  9, 10, 12, 13, 96, 98]),\n",
       " array([92469, 11726,  3343,  1304,   541,   246,    98,    41,    17,\n",
       "            8,     2,     2,     1,     4,   198]))"
      ]
     },
     "execution_count": 19,
     "metadata": {},
     "output_type": "execute_result"
    }
   ],
   "source": [
    "np.unique(df['vezes_passou_de_30_59_dias'], return_counts = True)"
   ]
  },
  {
   "cell_type": "code",
   "execution_count": 20,
   "id": "textile-climate",
   "metadata": {},
   "outputs": [
    {
     "data": {
      "text/plain": [
       "(array([ 0,  1,  2,  3,  4,  5,  6,  7,  8,  9, 10, 11, 12, 13, 14, 15, 16,\n",
       "        17, 18, 19, 20, 21, 22, 23, 24, 25, 26, 27, 28, 29, 30, 31, 32, 33,\n",
       "        34, 35, 36, 37, 38, 39, 40, 41, 42, 43, 44, 45, 46, 47, 48, 49, 50,\n",
       "        51, 52, 54, 56, 57, 58]),\n",
       " array([1419, 3252, 4915, 6652, 8512, 9521, 9988, 9675, 9171, 8240, 7095,\n",
       "        6107, 5122, 4163, 3373, 2661, 2173, 1738, 1428, 1037,  847,  649,\n",
       "         522,  394,  313,  221,  164,  138,  111,   91,   62,   58,   37,\n",
       "          31,   21,   13,   17,    5,   11,    3,    8,    3,    4,    4,\n",
       "           2,    5,    3,    1,    5,    2,    1,    2,    2,    4,    2,\n",
       "           1,    1]))"
      ]
     },
     "execution_count": 20,
     "metadata": {},
     "output_type": "execute_result"
    }
   ],
   "source": [
    "np.unique(df['numero_linhas_crdto_aberto'], return_counts = True)"
   ]
  },
  {
   "cell_type": "code",
   "execution_count": 21,
   "id": "protective-pilot",
   "metadata": {},
   "outputs": [
    {
     "data": {
      "text/plain": [
       "(array([ 0,  1,  2,  3,  4,  5,  6,  7,  8,  9, 10, 11, 13, 14, 15, 17, 96,\n",
       "        98]),\n",
       " array([103836,   3886,   1160,    486,    204,    103,     58,     21,\n",
       "            16,     15,      6,      2,      2,      1,      1,      1,\n",
       "             4,    198]))"
      ]
     },
     "execution_count": 21,
     "metadata": {},
     "output_type": "execute_result"
    }
   ],
   "source": [
    "np.unique(df['numero_vezes_passou_90_dias'], return_counts = True)"
   ]
  },
  {
   "cell_type": "code",
   "execution_count": 22,
   "id": "stopped-meaning",
   "metadata": {},
   "outputs": [
    {
     "data": {
      "text/plain": [
       "(array([ 0,  1,  2,  3,  4,  5,  6,  7,  8,  9, 10, 11, 12, 13, 14, 15, 16,\n",
       "        17, 18, 19, 20, 21, 23, 25, 26, 29, 32, 54]),\n",
       " array([41159, 38354, 23161,  4644,  1601,   496,   237,   126,    67,\n",
       "           58,    29,    15,    10,    13,     6,     5,     3,     4,\n",
       "            1,     1,     1,     1,     2,     2,     1,     1,     1,\n",
       "            1]))"
      ]
     },
     "execution_count": 22,
     "metadata": {},
     "output_type": "execute_result"
    }
   ],
   "source": [
    "np.unique(df['numero_emprestimos_imobiliarios'], return_counts = True)"
   ]
  },
  {
   "cell_type": "code",
   "execution_count": 23,
   "id": "suffering-cleaning",
   "metadata": {},
   "outputs": [
    {
     "data": {
      "text/plain": [
       "(array([ 0,  1,  2,  3,  4,  5,  6,  7,  8,  9, 11, 96, 98]),\n",
       " array([104466,   4169,    825,    222,     67,     26,     12,      7,\n",
       "             2,      1,      1,      4,    198]))"
      ]
     },
     "execution_count": 23,
     "metadata": {},
     "output_type": "execute_result"
    }
   ],
   "source": [
    "np.unique(df['numero_de_vezes_que_passou_60_89_dias'], return_counts = True)"
   ]
  },
  {
   "cell_type": "code",
   "execution_count": 24,
   "id": "regulated-shoulder",
   "metadata": {},
   "outputs": [
    {
     "data": {
      "text/plain": [
       "(array([ 0.,  1.,  2.,  3.,  4.,  5.,  6.,  7.,  8.,  9., 10., 20.]),\n",
       " array([66530, 19416, 14306,  6898,  2111,   563,   115,    38,    16,\n",
       "            2,     4,     1]))"
      ]
     },
     "execution_count": 24,
     "metadata": {},
     "output_type": "execute_result"
    }
   ],
   "source": [
    "np.unique(df['numero_de_dependentes'], return_counts = True)"
   ]
  },
  {
   "cell_type": "markdown",
   "id": "lovely-carry",
   "metadata": {},
   "source": [
    "______________________________________"
   ]
  },
  {
   "cell_type": "markdown",
   "id": "large-complaint",
   "metadata": {},
   "source": [
    "# ÁREA RESERVADA PARA ANÁLISE DE DADOS MATPLOTLIB"
   ]
  },
  {
   "cell_type": "code",
   "execution_count": null,
   "id": "restricted-thanksgiving",
   "metadata": {},
   "outputs": [],
   "source": []
  },
  {
   "cell_type": "code",
   "execution_count": null,
   "id": "offshore-vitamin",
   "metadata": {},
   "outputs": [],
   "source": []
  },
  {
   "cell_type": "code",
   "execution_count": null,
   "id": "executed-ottawa",
   "metadata": {},
   "outputs": [],
   "source": []
  },
  {
   "cell_type": "code",
   "execution_count": null,
   "id": "jewish-feeling",
   "metadata": {},
   "outputs": [],
   "source": []
  },
  {
   "cell_type": "markdown",
   "id": "occupational-canon",
   "metadata": {},
   "source": [
    "____"
   ]
  },
  {
   "cell_type": "markdown",
   "id": "mexican-paraguay",
   "metadata": {},
   "source": [
    "# ÁREA RESERVADA PARA PRE-PROCESSING"
   ]
  },
  {
   "cell_type": "code",
   "execution_count": 25,
   "id": "permanent-halloween",
   "metadata": {},
   "outputs": [
    {
     "data": {
      "text/html": [
       "<div>\n",
       "<style scoped>\n",
       "    .dataframe tbody tr th:only-of-type {\n",
       "        vertical-align: middle;\n",
       "    }\n",
       "\n",
       "    .dataframe tbody tr th {\n",
       "        vertical-align: top;\n",
       "    }\n",
       "\n",
       "    .dataframe thead th {\n",
       "        text-align: right;\n",
       "    }\n",
       "</style>\n",
       "<table border=\"1\" class=\"dataframe\">\n",
       "  <thead>\n",
       "    <tr style=\"text-align: right;\">\n",
       "      <th></th>\n",
       "      <th>inadimplente</th>\n",
       "      <th>util_linhas_inseguras</th>\n",
       "      <th>idade</th>\n",
       "      <th>vezes_passou_de_30_59_dias</th>\n",
       "      <th>razao_debito</th>\n",
       "      <th>salario_mensal</th>\n",
       "      <th>numero_linhas_crdto_aberto</th>\n",
       "      <th>numero_vezes_passou_90_dias</th>\n",
       "      <th>numero_emprestimos_imobiliarios</th>\n",
       "      <th>numero_de_vezes_que_passou_60_89_dias</th>\n",
       "      <th>numero_de_dependentes</th>\n",
       "    </tr>\n",
       "  </thead>\n",
       "  <tbody>\n",
       "    <tr>\n",
       "      <th>75966</th>\n",
       "      <td>0</td>\n",
       "      <td>0.485251</td>\n",
       "      <td>39</td>\n",
       "      <td>0</td>\n",
       "      <td>0.253437</td>\n",
       "      <td>4000.0</td>\n",
       "      <td>3</td>\n",
       "      <td>0</td>\n",
       "      <td>0</td>\n",
       "      <td>0</td>\n",
       "      <td>0.0</td>\n",
       "    </tr>\n",
       "    <tr>\n",
       "      <th>50117</th>\n",
       "      <td>0</td>\n",
       "      <td>0.000000</td>\n",
       "      <td>24</td>\n",
       "      <td>1</td>\n",
       "      <td>0.616290</td>\n",
       "      <td>1018.0</td>\n",
       "      <td>5</td>\n",
       "      <td>0</td>\n",
       "      <td>0</td>\n",
       "      <td>0</td>\n",
       "      <td>0.0</td>\n",
       "    </tr>\n",
       "    <tr>\n",
       "      <th>67092</th>\n",
       "      <td>0</td>\n",
       "      <td>0.088794</td>\n",
       "      <td>55</td>\n",
       "      <td>0</td>\n",
       "      <td>0.367232</td>\n",
       "      <td>14788.0</td>\n",
       "      <td>13</td>\n",
       "      <td>0</td>\n",
       "      <td>2</td>\n",
       "      <td>0</td>\n",
       "      <td>2.0</td>\n",
       "    </tr>\n",
       "  </tbody>\n",
       "</table>\n",
       "</div>"
      ],
      "text/plain": [
       "       inadimplente  util_linhas_inseguras  idade  vezes_passou_de_30_59_dias  \\\n",
       "75966             0               0.485251     39                           0   \n",
       "50117             0               0.000000     24                           1   \n",
       "67092             0               0.088794     55                           0   \n",
       "\n",
       "       razao_debito  salario_mensal  numero_linhas_crdto_aberto  \\\n",
       "75966      0.253437          4000.0                           3   \n",
       "50117      0.616290          1018.0                           5   \n",
       "67092      0.367232         14788.0                          13   \n",
       "\n",
       "       numero_vezes_passou_90_dias  numero_emprestimos_imobiliarios  \\\n",
       "75966                            0                                0   \n",
       "50117                            0                                0   \n",
       "67092                            0                                2   \n",
       "\n",
       "       numero_de_vezes_que_passou_60_89_dias  numero_de_dependentes  \n",
       "75966                                      0                    0.0  \n",
       "50117                                      0                    0.0  \n",
       "67092                                      0                    2.0  "
      ]
     },
     "execution_count": 25,
     "metadata": {},
     "output_type": "execute_result"
    }
   ],
   "source": [
    "df.sample(3)"
   ]
  },
  {
   "cell_type": "code",
   "execution_count": 26,
   "id": "durable-composer",
   "metadata": {},
   "outputs": [],
   "source": [
    "df_target = df[['inadimplente']]"
   ]
  },
  {
   "cell_type": "code",
   "execution_count": 27,
   "id": "organic-footage",
   "metadata": {},
   "outputs": [
    {
     "data": {
      "text/html": [
       "<div>\n",
       "<style scoped>\n",
       "    .dataframe tbody tr th:only-of-type {\n",
       "        vertical-align: middle;\n",
       "    }\n",
       "\n",
       "    .dataframe tbody tr th {\n",
       "        vertical-align: top;\n",
       "    }\n",
       "\n",
       "    .dataframe thead th {\n",
       "        text-align: right;\n",
       "    }\n",
       "</style>\n",
       "<table border=\"1\" class=\"dataframe\">\n",
       "  <thead>\n",
       "    <tr style=\"text-align: right;\">\n",
       "      <th></th>\n",
       "      <th>inadimplente</th>\n",
       "    </tr>\n",
       "  </thead>\n",
       "  <tbody>\n",
       "    <tr>\n",
       "      <th>14539</th>\n",
       "      <td>0</td>\n",
       "    </tr>\n",
       "    <tr>\n",
       "      <th>65437</th>\n",
       "      <td>0</td>\n",
       "    </tr>\n",
       "    <tr>\n",
       "      <th>5258</th>\n",
       "      <td>0</td>\n",
       "    </tr>\n",
       "    <tr>\n",
       "      <th>32678</th>\n",
       "      <td>0</td>\n",
       "    </tr>\n",
       "  </tbody>\n",
       "</table>\n",
       "</div>"
      ],
      "text/plain": [
       "       inadimplente\n",
       "14539             0\n",
       "65437             0\n",
       "5258              0\n",
       "32678             0"
      ]
     },
     "execution_count": 27,
     "metadata": {},
     "output_type": "execute_result"
    }
   ],
   "source": [
    "df_target.sample(4)"
   ]
  },
  {
   "cell_type": "code",
   "execution_count": 28,
   "id": "suburban-denial",
   "metadata": {},
   "outputs": [],
   "source": [
    "df = df.drop(['inadimplente'], axis = True)"
   ]
  },
  {
   "cell_type": "code",
   "execution_count": 29,
   "id": "biological-windows",
   "metadata": {},
   "outputs": [
    {
     "data": {
      "text/plain": [
       "Index(['util_linhas_inseguras', 'idade', 'vezes_passou_de_30_59_dias',\n",
       "       'razao_debito', 'salario_mensal', 'numero_linhas_crdto_aberto',\n",
       "       'numero_vezes_passou_90_dias', 'numero_emprestimos_imobiliarios',\n",
       "       'numero_de_vezes_que_passou_60_89_dias', 'numero_de_dependentes'],\n",
       "      dtype='object')"
      ]
     },
     "execution_count": 29,
     "metadata": {},
     "output_type": "execute_result"
    }
   ],
   "source": [
    "df.columns"
   ]
  },
  {
   "cell_type": "code",
   "execution_count": 30,
   "id": "novel-population",
   "metadata": {},
   "outputs": [],
   "source": [
    "from sklearn.preprocessing import StandardScaler\n",
    "from sklearn.model_selection import train_test_split\n",
    "from sklearn import preprocessing\n",
    "from sklearn.metrics import accuracy_score\n",
    "from sklearn.metrics import classification_report, confusion_matrix"
   ]
  },
  {
   "cell_type": "code",
   "execution_count": 31,
   "id": "happy-enforcement",
   "metadata": {},
   "outputs": [],
   "source": [
    "min_max_scaler = preprocessing.MinMaxScaler()"
   ]
  },
  {
   "cell_type": "code",
   "execution_count": 32,
   "id": "advised-steal",
   "metadata": {},
   "outputs": [],
   "source": [
    "x = df\n",
    "y = df_target\n",
    "x = min_max_scaler.fit_transform(x)"
   ]
  },
  {
   "cell_type": "code",
   "execution_count": 33,
   "id": "sound-repair",
   "metadata": {},
   "outputs": [],
   "source": [
    "from sklearn.preprocessing import StandardScaler  \n",
    "scaler = StandardScaler()  \n",
    "scaler.fit(x)\n",
    "x = scaler.transform(x)"
   ]
  },
  {
   "cell_type": "code",
   "execution_count": 34,
   "id": "announced-tender",
   "metadata": {},
   "outputs": [],
   "source": [
    "x_train, x_test, y_train, y_test = train_test_split(x, y, test_size = 0.20)"
   ]
  },
  {
   "cell_type": "code",
   "execution_count": 35,
   "id": "incoming-cartridge",
   "metadata": {},
   "outputs": [
    {
     "data": {
      "text/plain": [
       "88000"
      ]
     },
     "execution_count": 35,
     "metadata": {},
     "output_type": "execute_result"
    }
   ],
   "source": [
    "len(y_train)"
   ]
  },
  {
   "cell_type": "code",
   "execution_count": 36,
   "id": "hindu-literature",
   "metadata": {},
   "outputs": [
    {
     "data": {
      "text/plain": [
       "inadimplente    5858\n",
       "dtype: int64"
      ]
     },
     "execution_count": 36,
     "metadata": {},
     "output_type": "execute_result"
    }
   ],
   "source": [
    "y_train.sum()"
   ]
  },
  {
   "cell_type": "code",
   "execution_count": 37,
   "id": "intense-northeast",
   "metadata": {},
   "outputs": [],
   "source": [
    "rus = RandomUnderSampler(random_state = 42)\n",
    "\n",
    "x_train, y_train = rus.fit_resample(x_train,y_train)"
   ]
  },
  {
   "cell_type": "code",
   "execution_count": 38,
   "id": "acute-restaurant",
   "metadata": {},
   "outputs": [
    {
     "data": {
      "text/plain": [
       "11716"
      ]
     },
     "execution_count": 38,
     "metadata": {},
     "output_type": "execute_result"
    }
   ],
   "source": [
    "len(y_train)"
   ]
  },
  {
   "cell_type": "code",
   "execution_count": 39,
   "id": "remarkable-cedar",
   "metadata": {},
   "outputs": [
    {
     "data": {
      "text/plain": [
       "inadimplente    5858\n",
       "dtype: int64"
      ]
     },
     "execution_count": 39,
     "metadata": {},
     "output_type": "execute_result"
    }
   ],
   "source": [
    "y_train.sum()"
   ]
  },
  {
   "cell_type": "code",
   "execution_count": 40,
   "id": "packed-lounge",
   "metadata": {},
   "outputs": [
    {
     "data": {
      "text/plain": [
       "inadimplente    11716\n",
       "dtype: int64"
      ]
     },
     "execution_count": 40,
     "metadata": {},
     "output_type": "execute_result"
    }
   ],
   "source": [
    "2*y_train.sum()"
   ]
  },
  {
   "cell_type": "code",
   "execution_count": 41,
   "id": "alive-plenty",
   "metadata": {},
   "outputs": [],
   "source": [
    "from sklearn.datasets import make_classification\n",
    "from sklearn import svm"
   ]
  },
  {
   "cell_type": "code",
   "execution_count": 42,
   "id": "excessive-alignment",
   "metadata": {},
   "outputs": [],
   "source": [
    "clf = svm.SVC()"
   ]
  },
  {
   "cell_type": "code",
   "execution_count": 43,
   "id": "exterior-judgment",
   "metadata": {},
   "outputs": [
    {
     "name": "stderr",
     "output_type": "stream",
     "text": [
      "/home/temporary/.local/lib/python3.6/site-packages/sklearn/utils/validation.py:63: DataConversionWarning: A column-vector y was passed when a 1d array was expected. Please change the shape of y to (n_samples, ), for example using ravel().\n",
      "  return f(*args, **kwargs)\n"
     ]
    },
    {
     "data": {
      "text/plain": [
       "SVC()"
      ]
     },
     "execution_count": 43,
     "metadata": {},
     "output_type": "execute_result"
    }
   ],
   "source": [
    "clf.fit(x_train, y_train)"
   ]
  },
  {
   "cell_type": "code",
   "execution_count": 44,
   "id": "formed-minute",
   "metadata": {},
   "outputs": [],
   "source": [
    "y_pred = clf.predict(x_test)"
   ]
  },
  {
   "cell_type": "code",
   "execution_count": 45,
   "id": "committed-aggregate",
   "metadata": {},
   "outputs": [
    {
     "data": {
      "text/plain": [
       "0.8597272727272727"
      ]
     },
     "execution_count": 45,
     "metadata": {},
     "output_type": "execute_result"
    }
   ],
   "source": [
    "accuracy_score(y_test, y_pred)"
   ]
  },
  {
   "cell_type": "code",
   "execution_count": 46,
   "id": "celtic-actress",
   "metadata": {},
   "outputs": [
    {
     "name": "stdout",
     "output_type": "stream",
     "text": [
      "[[18055  2472]\n",
      " [  614   859]]\n",
      "              precision    recall  f1-score   support\n",
      "\n",
      "           0       0.97      0.88      0.92     20527\n",
      "           1       0.26      0.58      0.36      1473\n",
      "\n",
      "    accuracy                           0.86     22000\n",
      "   macro avg       0.61      0.73      0.64     22000\n",
      "weighted avg       0.92      0.86      0.88     22000\n",
      "\n"
     ]
    }
   ],
   "source": [
    "print(confusion_matrix(y_test,y_pred))\n",
    "print(classification_report(y_test,y_pred))"
   ]
  },
  {
   "cell_type": "code",
   "execution_count": 47,
   "id": "pressing-grove",
   "metadata": {},
   "outputs": [
    {
     "name": "stderr",
     "output_type": "stream",
     "text": [
      "/home/temporary/.local/lib/python3.6/site-packages/sklearn/utils/validation.py:63: DataConversionWarning: A column-vector y was passed when a 1d array was expected. Please change the shape of y to (n_samples, ), for example using ravel().\n",
      "  return f(*args, **kwargs)\n"
     ]
    },
    {
     "data": {
      "text/plain": [
       "SVC(kernel='sigmoid')"
      ]
     },
     "execution_count": 47,
     "metadata": {},
     "output_type": "execute_result"
    }
   ],
   "source": [
    "from sklearn.svm import SVC\n",
    "svclassifier = SVC(kernel='sigmoid')\n",
    "svclassifier.fit(x_train, y_train)"
   ]
  },
  {
   "cell_type": "code",
   "execution_count": 48,
   "id": "consecutive-record",
   "metadata": {},
   "outputs": [
    {
     "name": "stdout",
     "output_type": "stream",
     "text": [
      "[[15550  4977]\n",
      " [  483   990]]\n",
      "              precision    recall  f1-score   support\n",
      "\n",
      "           0       0.97      0.76      0.85     20527\n",
      "           1       0.17      0.67      0.27      1473\n",
      "\n",
      "    accuracy                           0.75     22000\n",
      "   macro avg       0.57      0.71      0.56     22000\n",
      "weighted avg       0.92      0.75      0.81     22000\n",
      "\n"
     ]
    }
   ],
   "source": [
    "y_pred = svclassifier.predict(x_test)\n",
    "print(confusion_matrix(y_test,y_pred))\n",
    "print(classification_report(y_test,y_pred))"
   ]
  },
  {
   "cell_type": "code",
   "execution_count": 49,
   "id": "local-policy",
   "metadata": {},
   "outputs": [
    {
     "data": {
      "text/plain": [
       "0.7518181818181818"
      ]
     },
     "execution_count": 49,
     "metadata": {},
     "output_type": "execute_result"
    }
   ],
   "source": [
    "accuracy_score(y_test, y_pred)"
   ]
  },
  {
   "cell_type": "code",
   "execution_count": null,
   "id": "faced-alexandria",
   "metadata": {},
   "outputs": [],
   "source": []
  },
  {
   "cell_type": "code",
   "execution_count": null,
   "id": "excess-basic",
   "metadata": {},
   "outputs": [],
   "source": []
  },
  {
   "cell_type": "code",
   "execution_count": null,
   "id": "operating-profile",
   "metadata": {},
   "outputs": [],
   "source": []
  },
  {
   "cell_type": "code",
   "execution_count": null,
   "id": "interracial-still",
   "metadata": {},
   "outputs": [],
   "source": []
  }
 ],
 "metadata": {
  "kernelspec": {
   "display_name": "Python 3",
   "language": "python",
   "name": "python3"
  },
  "language_info": {
   "codemirror_mode": {
    "name": "ipython",
    "version": 3
   },
   "file_extension": ".py",
   "mimetype": "text/x-python",
   "name": "python",
   "nbconvert_exporter": "python",
   "pygments_lexer": "ipython3",
   "version": "3.6.9"
  }
 },
 "nbformat": 4,
 "nbformat_minor": 5
}
